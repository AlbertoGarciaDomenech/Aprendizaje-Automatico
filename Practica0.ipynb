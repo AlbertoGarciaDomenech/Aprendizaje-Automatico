{
 "cells": [
  {
   "cell_type": "code",
   "execution_count": 1,
   "metadata": {},
   "outputs": [],
   "source": [
    "import time\n",
    "import numpy as np\n",
    "import matplotlib.pyplot as plt\n",
    "from scipy import integrate"
   ]
  },
  {
   "cell_type": "code",
   "execution_count": 2,
   "metadata": {},
   "outputs": [],
   "source": [
    "\"\"\"Busca el valor maximo de una funcion en cierto intervalo\"\"\"\n",
    "def valor_maximo(fun, a, b):\n",
    "    m = 0\n",
    "    for i in np.arange(a,b+1):\n",
    "        if(fun(i) > fun(m)):\n",
    "            m = i\n",
    "    return fun(m)\n",
    "\n",
    "\"\"\"Busca el valor minimo de una funcion en cierto intervalo\"\"\"\n",
    "def valor_minimo(fun, a, b):\n",
    "    m = 0\n",
    "    for i in np.arange(a,b+1):\n",
    "        if(fun(i) < fun(m)):\n",
    "            m = i\n",
    "    return fun(m)\n",
    "\n",
    "def f(x):\n",
    "    return (2*x)"
   ]
  },
  {
   "cell_type": "code",
   "execution_count": 3,
   "metadata": {},
   "outputs": [],
   "source": [
    "\"\"\"Calcula la integral definida de una funcion mediante \n",
    "el metodo MonteCarlo haciendo uso de un bucle\"\"\"\n",
    "def integra_mc_bucle(fun, a, b, num_puntos=10000):\n",
    "    Nunder = 0\n",
    "    \n",
    "    M = valor_maximo(fun, a, b)\n",
    "    m = valor_minimo(fun, a, b)\n",
    "\n",
    "    for i in range(num_puntos):\n",
    "        x = np.random.uniform(a,b)\n",
    "        y = np.random.uniform(m,M)\n",
    "        if y < fun(x):\n",
    "            Nunder += 1\n",
    "\n",
    "    I = ((Nunder / num_puntos) * (b-a) * M)\n",
    "    return I"
   ]
  },
  {
   "cell_type": "code",
   "execution_count": 4,
   "metadata": {},
   "outputs": [
    {
     "data": {
      "text/plain": [
       "99.4248"
      ]
     },
     "execution_count": 4,
     "metadata": {},
     "output_type": "execute_result"
    }
   ],
   "source": [
    "integra_mc_bucle(f,1,10)"
   ]
  },
  {
   "cell_type": "code",
   "execution_count": 5,
   "metadata": {},
   "outputs": [],
   "source": [
    "\"\"\"Calcula la integral definida de una funcion mediante \n",
    "el metodo MonteCarlo haciendo uso de operaciones con vectores\"\"\"\n",
    "def integra_mc_vector(fun, a, b, num_puntos=10000):\n",
    "    Nunder = 0\n",
    "    \n",
    "    M = valor_maximo(fun, a, b)\n",
    "    m = valor_minimo(fun, a, b)\n",
    "    \n",
    "    x = np.random.uniform(a,b,num_puntos)\n",
    "    y = np.random.uniform(m,M,num_puntos)\n",
    "    Nunder= np.count_nonzero((y < fun(x)))\n",
    "\n",
    "    \n",
    "    I = ((Nunder / num_puntos) * (b-a) * M)\n",
    "    return I"
   ]
  },
  {
   "cell_type": "code",
   "execution_count": 8,
   "metadata": {},
   "outputs": [
    {
     "name": "stdout",
     "output_type": "stream",
     "text": [
      "(99.0, 1.099120794378905e-12)\n",
      "98.98920000000001\n",
      "98.58599999999998\n"
     ]
    }
   ],
   "source": [
    "print(integrate.quad(f, 1, 10))\n",
    "print(integra_mc_bucle(f,1,10))\n",
    "print(integra_mc_vector(f,1,10))"
   ]
  },
  {
   "cell_type": "code",
   "execution_count": 27,
   "metadata": {},
   "outputs": [
    {
     "data": {
      "image/png": "[encoded data removed]",
      "text/plain": [
       "<Figure size 432x288 with 1 Axes>"
      ]
     },
     "metadata": {
      "needs_background": "light"
     },
     "output_type": "display_data"
    }
   ],
   "source": [
    "def compara_tiempos(f,a,b):\n",
    "    sizes = np.linspace(100, 10000000, 20)\n",
    "    times_bucle = []\n",
    "    times_vector = []\n",
    "    for size in sizes:\n",
    "        tic = time.process_time()\n",
    "        integra_mc_bucle(f, a, b, int(size))\n",
    "        toc = time.process_time()\n",
    "        times_bucle += [1000*(toc-tic)]\n",
    "        \n",
    "        tic = time.process_time()\n",
    "        integra_mc_vector(f, a, b, int(size))\n",
    "        toc = time.process_time()\n",
    "        times_vector += [1000*(toc-tic)]\n",
    "\n",
    "    plt.figure()\n",
    "    plt.scatter(sizes, times_bucle, c='red', label='bucle')\n",
    "    plt.scatter(sizes, times_vector, c='blue', label='vector')\n",
    "    plt.legend()\n",
    "    plt.show()\n",
    "    \n",
    "compara_tiempos(f,1,10)"
   ]
  },
  {
   "cell_type": "code",
   "execution_count": null,
   "metadata": {},
   "outputs": [],
   "source": []
  }
 ],
 "metadata": {
  "kernelspec": {
   "display_name": "Python 3",
   "language": "python",
   "name": "python3"
  },
  "language_info": {
   "codemirror_mode": {
    "name": "ipython",
    "version": 3
   },
   "file_extension": ".py",
   "mimetype": "text/x-python",
   "name": "python",
   "nbconvert_exporter": "python",
   "pygments_lexer": "ipython3",
   "version": "3.7.4"
  }
 },
 "nbformat": 4,
 "nbformat_minor": 4
}
