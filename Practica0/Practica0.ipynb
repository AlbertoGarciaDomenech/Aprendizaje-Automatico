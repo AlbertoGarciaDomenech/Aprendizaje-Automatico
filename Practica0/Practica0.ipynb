{
 "cells": [
  {
   "cell_type": "markdown",
   "metadata": {},
   "source": [
    "## **Practica 0**\n",
    "### Aprendizaje automático y big data\n",
    "---\n",
    "#### _Alberto García Domenech - Pablo Daurell Marina_"
   ]
  },
  {
   "cell_type": "markdown",
   "metadata": {},
   "source": [
    "En esta práctica vamos a calcular la integral definida de una función.  \n",
    "Para ello usaremos el método de Montecarlo: generando varios números aleatorios y aplicando cierta formula podremos calcular el valor aproximado de la integral.   \n",
    "Implementaremos dos formas de realizar este método:\n",
    "- Utilizando un bucle ```integra_mc_bucle()```  \n",
    "- Utilizando operaciones sobre vectores ```integra_mc_vector()```     \n",
    "\n",
    "Y comprobaremos cuál es más eficiente."
   ]
  },
  {
   "cell_type": "markdown",
   "metadata": {},
   "source": [
    "Para empezar, importamos las librerias necesarias:\n",
    "- **time:** Calcular tiempos de ejecución\n",
    "- **numpy:** Realizar operaciones con vectores\n",
    "- **matplotlib.pyplot:** Dibujar gráficas\n",
    "- **scipy:** Comprobar valor de la integral"
   ]
  },
  {
   "cell_type": "code",
   "execution_count": 1,
   "metadata": {},
   "outputs": [],
   "source": [
    "import time\n",
    "import numpy as np\n",
    "import matplotlib.pyplot as plt\n",
    "from scipy import integrate"
   ]
  },
  {
   "cell_type": "code",
   "execution_count": 2,
   "metadata": {},
   "outputs": [],
   "source": [
    "# Funcion a integrar (Ej: 2x)\n",
    "def f(x):\n",
    "    return (2*x)"
   ]
  },
  {
   "cell_type": "markdown",
   "metadata": {},
   "source": [
    "### Solución con bucle:\n",
    "Primero calculamos la integral con un bucle para generar los puntos aleatorios y comprobar su relación respecto a la gráfica de la función.   "
   ]
  },
  {
   "cell_type": "code",
   "execution_count": 3,
   "metadata": {},
   "outputs": [],
   "source": [
    "def integra_mc_bucle(fun, a, b, num_puntos=10000):\n",
    "    \"\"\"Calcula la integral definida de una funcion mediante \n",
    "    el metodo MonteCarlo haciendo uso de un bucle\"\"\"\n",
    "    Nunder = 0\n",
    "    x_range = np.linspace(a, b, num_puntos)\n",
    "    y_range = fun(x_range)\n",
    "    maximo = max(y_range)\n",
    "    minimo = 0\n",
    "\n",
    "    for i in range(num_puntos):\n",
    "        x = np.random.uniform(a, b)\n",
    "        y = np.random.uniform(minimo, maximo)\n",
    "        if y < fun(x):\n",
    "            Nunder += 1\n",
    "\n",
    "    I = ((Nunder / num_puntos) * (b-a) * maximo)\n",
    "    return I"
   ]
  },
  {
   "cell_type": "markdown",
   "metadata": {},
   "source": [
    "### Solución con operaciones de vectores:\n",
    "Ahora volvemos a calcular la integral pero sin un bucle. Generamos los puntos aleatorios creando arrays de numpy con números aleatorios y aplicamos una máscara booleana para averiguar su posición respecto a la gráfica de la función."
   ]
  },
  {
   "cell_type": "code",
   "execution_count": 4,
   "metadata": {},
   "outputs": [],
   "source": [
    "def integra_mc_vector(fun, a, b, num_puntos=10000):\n",
    "    \"\"\"Calcula la integral definida de una funcion mediante \n",
    "    el metodo MonteCarlo haciendo uso de operaciones con vectores\"\"\"\n",
    "    x_range = np.linspace(a, b, num_puntos)\n",
    "    y_range = fun(x_range)\n",
    "    maximo = max(y_range)\n",
    "    minimo = 0\n",
    "    \n",
    "    x = np.random.uniform(a, b, num_puntos)\n",
    "    y = np.random.uniform(minimo, maximo, num_puntos)\n",
    "    Nunder= np.count_nonzero((y < fun(x)))\n",
    "\n",
    "    I = ((Nunder / num_puntos) * (b-a) * maximo)\n",
    "    return I"
   ]
  },
  {
   "cell_type": "markdown",
   "metadata": {},
   "source": [
    "### Comprobación:  \n",
    "- ```integrate.quad()``` de la librería **scipy** nos devuelve el valor de la integral.   \n",
    "- Comprobamos que ```integra_mc_bucle()``` e ```integra_mc_vector()``` devuelven un valor muy cercano."
   ]
  },
  {
   "cell_type": "code",
   "execution_count": 5,
   "metadata": {},
   "outputs": [
    {
     "name": "stdout",
     "output_type": "stream",
     "text": [
      "(99.0, 1.099120794378905e-12)\n",
      "98.64000000000001\n",
      "99.756\n"
     ]
    }
   ],
   "source": [
    "print(integrate.quad(f, 1, 10))\n",
    "print(integra_mc_bucle(f,1,10))\n",
    "print(integra_mc_vector(f,1,10))"
   ]
  },
  {
   "cell_type": "markdown",
   "metadata": {},
   "source": [
    "### Tiempos:\n",
    "Comparamos los tiempos de ejecución de la función que hace uso de un bucle y la que hace uso de operaciones con vectores, en función del número de puntos aleatorios generados."
   ]
  },
  {
   "cell_type": "code",
   "execution_count": 9,
   "metadata": {},
   "outputs": [
    {
     "data": {
      "image/png": "[encoded data removed]",
      "text/plain": [
       "<Figure size 432x288 with 1 Axes>"
      ]
     },
     "metadata": {
      "needs_background": "light"
     },
     "output_type": "display_data"
    }
   ],
   "source": [
    "def compara_tiempos(f,a,b):\n",
    "    \"\"\"Genera grafica de tiempos \"\"\"\n",
    "    sizes = np.linspace(100, 10000000, 20)\n",
    "    times_bucle = []\n",
    "    times_vector = []\n",
    "    for size in sizes:\n",
    "        tic = time.process_time()\n",
    "        integra_mc_bucle(f, a, b, int(size))\n",
    "        toc = time.process_time()\n",
    "        times_bucle += [1000*(toc-tic)]\n",
    "        \n",
    "        tic = time.process_time()\n",
    "        integra_mc_vector(f, a, b, int(size))\n",
    "        toc = time.process_time()\n",
    "        times_vector += [1000*(toc-tic)]\n",
    "\n",
    "    plt.figure()\n",
    "    plt.xlabel('Nº de puntos')\n",
    "    plt.ylabel('Tiempo (ms)')\n",
    "    plt.scatter(sizes, times_bucle, c='red', label='bucle')\n",
    "    plt.scatter(sizes, times_vector, c='blue', label='vector')\n",
    "    plt.legend()\n",
    "    plt.savefig('tiempos_def.pdf')\n",
    "    plt.show()\n",
    "    \n",
    "compara_tiempos(f,1,10)"
   ]
  },
  {
   "cell_type": "markdown",
   "metadata": {},
   "source": [
    "### Conclusión:\n",
    "Como vemos en la gráfica, la función con bucle es mucho menos eficiente que la función con operaciones de vectores. El bucle es mucho más lento cuantos más puntos generemos, mientras que con el uso de vectores el tiempo de ejecución es mucho menor y varía mucho menos."
   ]
  }
 ],
 "metadata": {
  "kernelspec": {
   "display_name": "Python 3",
   "language": "python",
   "name": "python3"
  },
  "language_info": {
   "codemirror_mode": {
    "name": "ipython",
    "version": 3
   },
   "file_extension": ".py",
   "mimetype": "text/x-python",
   "name": "python",
   "nbconvert_exporter": "python",
   "pygments_lexer": "ipython3",
   "version": "3.7.4"
  }
 },
 "nbformat": 4,
 "nbformat_minor": 4
}
