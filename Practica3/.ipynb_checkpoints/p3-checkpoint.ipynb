{
 "cells": [
  {
   "cell_type": "markdown",
   "metadata": {},
   "source": [
    "# Practica 3 (Regresión logística multiclase y redes neuronales)\n",
    "### Aprendizaje automático y big data\n",
    "##### _Alberto García Doménech - Pablo Daurell Marina_    \n",
    "---"
   ]
  },
  {
   "cell_type": "code",
   "execution_count": 8,
   "metadata": {},
   "outputs": [],
   "source": [
    "import numpy as np\n",
    "import pandas as pd\n",
    "import matplotlib.pyplot as plt"
   ]
  },
  {
   "cell_type": "code",
   "execution_count": 36,
   "metadata": {},
   "outputs": [
    {
     "data": {
      "text/plain": [
       "(5000, 1)"
      ]
     },
     "execution_count": 36,
     "metadata": {},
     "output_type": "execute_result"
    }
   ],
   "source": [
    "a = np.squeeze(data['y'])\n",
    "b = y.T[0]\n",
    "# c = y.T[1]\n",
    "np.shape(y) # (5000, 1)"
   ]
  },
  {
   "cell_type": "code",
   "execution_count": 37,
   "metadata": {},
   "outputs": [],
   "source": [
    "# cargamos los datos, en este caso 5000 ejemplos de entrenamiento(imagenes 20x20 pixeles)\n",
    "from scipy.io import loadmat\n",
    "data = loadmat ('ex3data1.mat')\n",
    "# se pueden consultar las claves con data.keys()\n",
    "y = data ['y']\n",
    "X = data ['X']\n",
    "\n",
    "np.shape(X) # (5000, 400)\n",
    "np.shape(y) # (5000,1)\n",
    "\n",
    "y = y.T[0]\n",
    "\n",
    "np.shape(y) # (5000,)\n",
    "\n",
    "m = np.shape(X)[0]\n",
    "n = np.shape(X)[1]\n",
    "\n",
    "# añadimos una columna de 1's a la X\n",
    "X = np.hstack([np.ones([m, 1]), X])"
   ]
  },
  {
   "cell_type": "code",
   "execution_count": 15,
   "metadata": {},
   "outputs": [],
   "source": [
    "# seleccionamos 10 numeros al azar y los mostramos\n",
    "sample = np.random.choice(X.shape[0], 10)\n",
    "plt.imshow(X[sample, :].reshape(-1,20).T)\n",
    "plt.axis('off')"
   ]
  },
  {
   "cell_type": "code",
   "execution_count": 16,
   "metadata": {},
   "outputs": [],
   "source": [
    "# utilizamos de nuevo las funciones de coste,sigmoide y de gradiente\n",
    "def sigmoid(x):\n",
    "    return 1 / (1 + np.exp(-x))\n",
    "\n",
    "def cost(Theta, X, Y):\n",
    "    H = sigmoid(np.matmul(X, Theta))\n",
    "    cost = (-1 / len(X)) * ( np.matmul(np.log(H).T, Y) + np.matmul(np.log(1-H).T, (1-Y)))\n",
    "    return cost\n",
    "\n",
    "def gradient(Theta, X, Y):\n",
    "    H = sigmoid(np.matmul(X, Theta))\n",
    "    return ( (1/len(X)) * np.matmul(X.T, H - Y) )"
   ]
  },
  {
   "cell_type": "code",
   "execution_count": null,
   "metadata": {},
   "outputs": [],
   "source": [
    "# clasificacion de uno frente a todos\n",
    "def oneVsAll(X,y,num_etiquetas,reg):\n",
    "    \"\"\"\n",
    "    oneVsAll entrena varios clasificadores por regresión logística con término\n",
    "    de regularización  'reg'y devuelve el resultado en una matriz, donde la \n",
    "    fila i-ésima corresponde al clasificador de la etiqueta i-ésima\n",
    "    \"\"\"\n",
    "    matrix = np.zeros(shape=(X.shape[0],))\n",
    "#     entrenamos un clasificador por cada una de las clases del conjunto de datos\n",
    "    for i in range(num_etiquetas):\n",
    "        Theta = np.zeros(np.shape(X[0]))\n",
    "    "
   ]
  }
 ],
 "metadata": {
  "kernelspec": {
   "display_name": "Python 3",
   "language": "python",
   "name": "python3"
  },
  "language_info": {
   "codemirror_mode": {
    "name": "ipython",
    "version": 3
   },
   "file_extension": ".py",
   "mimetype": "text/x-python",
   "name": "python",
   "nbconvert_exporter": "python",
   "pygments_lexer": "ipython3",
   "version": "3.7.4"
  }
 },
 "nbformat": 4,
 "nbformat_minor": 4
}
