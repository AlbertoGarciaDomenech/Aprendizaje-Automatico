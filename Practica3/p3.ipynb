{
 "cells": [
  {
   "cell_type": "markdown",
   "metadata": {},
   "source": [
    "# Practica 3 (Regresión logística multiclase y redes neuronales)\n",
    "### Aprendizaje automático y big data\n",
    "##### _Alberto García Doménech - Pablo Daurell Marina_    \n",
    "---"
   ]
  },
  {
   "cell_type": "code",
   "execution_count": 11,
   "metadata": {},
   "outputs": [],
   "source": [
    "import numpy as np\n",
    "import pandas as pd\n",
    "import matplotlib.pyplot as plt"
   ]
  },
  {
   "cell_type": "code",
   "execution_count": 38,
   "metadata": {},
   "outputs": [],
   "source": [
    "# cargamos los datos, en este caso 5000 ejemplos de entrenamiento(imagenes 20x20 pixeles)\n",
    "from scipy.io import loadmat\n",
    "data = loadmat ('ex3data1.mat')\n",
    "\n",
    "# se pueden consultar las claves con data.keys()\n",
    "y = data['y']\n",
    "X = data['X']\n",
    "\n",
    "np.shape(X) # (5000, 400)\n",
    "np.shape(y) # (5000,1)\n",
    "\n",
    "y = y.T[0]\n",
    "np.shape(y) # (5000,)\n",
    "\n",
    "num_examples = np.shape(X)[0] # 5000 ejemplos\n",
    "num_features = np.shape(X)[1] # 400 atributos (por cada ejemplo)\n",
    "\n",
    "# añadimos una columna de 1's a la X\n",
    "X = np.hstack([np.ones([m, 1]), X])"
   ]
  },
  {
   "cell_type": "code",
   "execution_count": 19,
   "metadata": {},
   "outputs": [
    {
     "data": {
      "image/png": "[encoded data removed]",
      "text/plain": [
       "<Figure size 432x288 with 1 Axes>"
      ]
     },
     "metadata": {
      "needs_background": "light"
     },
     "output_type": "display_data"
    }
   ],
   "source": [
    "# seleccionamos 10 numeros al azar y los mostramos\n",
    "sample = np.random.choice(X.shape[0], 10)\n",
    "plt.imshow(X[sample, 1:].reshape(-1,20).T)\n",
    "plt.axis('off')\n",
    "plt.show()"
   ]
  },
  {
   "cell_type": "code",
   "execution_count": 10,
   "metadata": {},
   "outputs": [],
   "source": [
    "# utilizamos de nuevo las funciones de coste,sigmoide y de gradiente\n",
    "def sigmoid(x):\n",
    "    return 1 / (1 + np.exp(-x))\n",
    "\n",
    "# def cost(Theta, X, Y):\n",
    "#     H = sigmoid(np.matmul(X, Theta))\n",
    "#     cost = (-1 / len(X)) * ( np.matmul(np.log(H).T, Y) + np.matmul(np.log(1-H).T, (1-Y)))\n",
    "#     return cost\n",
    "\n",
    "# def gradient(Theta, X, Y):\n",
    "#     H = sigmoid(np.matmul(X, Theta))\n",
    "#     return ( (1/len(X)) * np.matmul(X.T, H - Y) )\n",
    "\n",
    "def cost(Theta, X, Y, Lambda):\n",
    "    H = sigmoid(np.matmul(X, Theta))\n",
    "    aux = (-1 / len(X)) * ( np.matmul(np.log(H).T, Y) + np.matmul(np.log(1-H).T, (1-Y)))\n",
    "    regul = (Lambda/(2*len(X))) * np.sum(Theta**2)\n",
    "    return (aux + regul)\n",
    "\n",
    "def gradient(Theta, X, Y, Lambda):\n",
    "    H = sigmoid(np.matmul(X, Theta))\n",
    "    aux = np.matmul(X.T, H - Y) / len(X)\n",
    "    regul = (Lambda/len(X)) * Theta\n",
    "    return (aux + regul)"
   ]
  },
  {
   "cell_type": "code",
   "execution_count": 22,
   "metadata": {},
   "outputs": [],
   "source": [
    "import scipy.optimize as opt\n",
    "def oneVsAll(X, y, num_etiquetas, reg):\n",
    "    \"\"\"\n",
    "    oneVsAll entrena varios clasificadores por regresión logística con término\n",
    "    de regularización 'reg' y devuelve el resultado en una matriz, donde la \n",
    "    fila i-ésima corresponde al clasificador de la etiqueta i-ésima\n",
    "    \"\"\"\n",
    "    # Creamos una matriz de 'num_etiquetas' clasificadores con 'num_features + 1' atributos cada uno\n",
    "    classifiers = np.zeros(shape=(num_etiquetas, num_features + 1))\n",
    "    \n",
    "    # entrenamos un clasificador por cada una de las clases del conjunto de datos\n",
    "    for i in range(num_etiquetas):\n",
    "        Theta = np.zeros(np.shape(X[0]))\n",
    "        k = (y == i) * 1\n",
    "        result = opt.fmin_tnc(func=cost, x0=Theta, fprime=gradient, args=(X, k))\n",
    "        classifiers[i] = result[0]\n",
    "    return classifiers"
   ]
  }
 ],
 "metadata": {
  "kernelspec": {
   "display_name": "Python 3",
   "language": "python",
   "name": "python3"
  },
  "language_info": {
   "codemirror_mode": {
    "name": "ipython",
    "version": 3
   },
   "file_extension": ".py",
   "mimetype": "text/x-python",
   "name": "python",
   "nbconvert_exporter": "python",
   "pygments_lexer": "ipython3",
   "version": "3.7.4"
  }
 },
 "nbformat": 4,
 "nbformat_minor": 4
}
